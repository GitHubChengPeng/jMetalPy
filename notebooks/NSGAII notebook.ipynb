{
 "cells": [
  {
   "cell_type": "markdown",
   "source": [
    "# Examples of configuring and running NSGA-II\n",
    "\n",
    "This notebook includes two examples where NSGA-II is used to solve a continuous and a binary multi-objective problems."
   ],
   "metadata": {
    "collapsed": false
   }
  },
  {
   "cell_type": "code",
   "execution_count": 81,
   "outputs": [],
   "source": [
    "from jmetal.algorithm.multiobjective.nsgaii import NSGAII\n",
    "from jmetal.operator import PolynomialMutation, SBXCrossover\n",
    "from jmetal.operator import BitFlipMutation, SPXCrossover\n",
    "from jmetal.util.solution import get_non_dominated_solutions\n",
    "from jmetal.util.termination_criterion import StoppingByEvaluations"
   ],
   "metadata": {
    "collapsed": false
   }
  },
  {
   "cell_type": "markdown",
   "source": [
    "## Configure the algorithm to solve a continuous problem (ZDT1)\n",
    "### Indicate the problem to solve"
   ],
   "metadata": {
    "collapsed": false
   }
  },
  {
   "cell_type": "code",
   "execution_count": 72,
   "outputs": [],
   "source": [
    "from jmetal.problem import ZDT1\n",
    "\n",
    "problem = ZDT1()"
   ],
   "metadata": {
    "collapsed": false
   }
  },
  {
   "cell_type": "markdown",
   "source": [
    "### Create an instance of NSGAII"
   ],
   "metadata": {
    "collapsed": false
   }
  },
  {
   "cell_type": "code",
   "execution_count": 73,
   "outputs": [],
   "source": [
    "max_evaluations = 25000\n",
    "algorithm = NSGAII(\n",
    "        problem=problem,\n",
    "        population_size=100,\n",
    "        offspring_population_size=100,\n",
    "        mutation=PolynomialMutation(probability=1.0 / problem.number_of_variables, distribution_index=20),\n",
    "        crossover=SBXCrossover(probability=1.0, distribution_index=20),\n",
    "        termination_criterion=StoppingByEvaluations(max_evaluations=max_evaluations),\n",
    ")"
   ],
   "metadata": {
    "collapsed": false
   }
  },
  {
   "cell_type": "markdown",
   "source": [
    "### Run the algorithm and get the front found"
   ],
   "metadata": {
    "collapsed": false
   }
  },
  {
   "cell_type": "code",
   "execution_count": 74,
   "outputs": [
    {
     "name": "stderr",
     "output_type": "stream",
     "text": [
      "[2022-12-07 08:47:28,047] [jmetal.core.algorithm] [DEBUG] Creating initial set of solutions...\n",
      "[2022-12-07 08:47:28,049] [jmetal.core.algorithm] [DEBUG] Evaluating solutions...\n",
      "[2022-12-07 08:47:28,053] [jmetal.core.algorithm] [DEBUG] Initializing progress...\n",
      "[2022-12-07 08:47:28,055] [jmetal.core.algorithm] [DEBUG] Running main loop until termination criteria is met\n",
      "[2022-12-07 08:47:33,923] [jmetal.core.algorithm] [DEBUG] Finished!\n"
     ]
    }
   ],
   "source": [
    "algorithm.run()\n",
    "front = get_non_dominated_solutions(algorithm.get_result())"
   ],
   "metadata": {
    "collapsed": false
   }
  },
  {
   "cell_type": "markdown",
   "source": [
    "### Display the front"
   ],
   "metadata": {
    "collapsed": false
   }
  },
  {
   "cell_type": "code",
   "execution_count": 75,
   "outputs": [],
   "source": [
    "import matplotlib.pyplot as plt\n",
    "import numpy as np"
   ],
   "metadata": {
    "collapsed": false
   }
  },
  {
   "cell_type": "code",
   "execution_count": 76,
   "outputs": [],
   "source": [
    "objectives = [solution.objectives for solution in front]\n",
    "\n",
    "x = [_[0] for _ in objectives]\n",
    "y = [_[1] for _ in objectives]"
   ],
   "metadata": {
    "collapsed": false
   }
  },
  {
   "cell_type": "code",
   "execution_count": 77,
   "outputs": [],
   "source": [
    "referenceFront = np.loadtxt(\"../resources/reference_front/ZDT1.pf\", delimiter=' ')\n",
    "referenceFront = referenceFront[referenceFront[:, 0].argsort()]"
   ],
   "metadata": {
    "collapsed": false
   }
  },
  {
   "cell_type": "code",
   "execution_count": 78,
   "outputs": [
    {
     "data": {
      "text/plain": "<matplotlib.legend.Legend at 0x7fcfb03c51f0>"
     },
     "execution_count": 78,
     "metadata": {},
     "output_type": "execute_result"
    },
    {
     "data": {
      "text/plain": "<Figure size 640x480 with 1 Axes>",
      "image/png": "[encoded data removed]"
     },
     "metadata": {},
     "output_type": "display_data"
    }
   ],
   "source": [
    "plt.plot(referenceFront[:,0], referenceFront[:,1], color=\"black\")\n",
    "plt.scatter(x, y, color=\"black\", marker = '.')\n",
    "\n",
    "plt.xlabel(\"f1\")\n",
    "plt.ylabel(\"f2\")\n",
    "plt.title(problem.get_name())\n",
    "plt.legend([\"Reference front\" , \"NSGAII\"])"
   ],
   "metadata": {
    "collapsed": false
   }
  },
  {
   "cell_type": "markdown",
   "source": [
    "## Configure the algorithm to solve a binary problem (OneZeroMax)"
   ],
   "metadata": {
    "collapsed": false
   }
  },
  {
   "cell_type": "code",
   "execution_count": 82,
   "outputs": [],
   "source": [
    "# The OneZeroMax problem consists of maximizing the number of zeros and the number of ones in a binary string\n",
    "from jmetal.problem.multiobjective.unconstrained import OneZeroMax\n",
    "\n",
    "bit_string_length = 512\n",
    "problem = OneZeroMax(bit_string_length)"
   ],
   "metadata": {
    "collapsed": false
   }
  },
  {
   "cell_type": "markdown",
   "source": [
    "### Create an instance of NSGAII for binary problems¡"
   ],
   "metadata": {
    "collapsed": false
   }
  },
  {
   "cell_type": "code",
   "execution_count": 85,
   "outputs": [],
   "source": [
    "max_evaluations = 50000\n",
    "algorithm = NSGAII(\n",
    "        problem=problem,\n",
    "        population_size=100,\n",
    "        offspring_population_size=100,\n",
    "        mutation=BitFlipMutation(probability=1.0 / bit_string_length),\n",
    "        crossover=SPXCrossover(probability=1.0),\n",
    "        termination_criterion=StoppingByEvaluations(max_evaluations=max_evaluations),\n",
    ")"
   ],
   "metadata": {
    "collapsed": false
   }
  },
  {
   "cell_type": "markdown",
   "source": [
    "### Run the algorithm and get the front found"
   ],
   "metadata": {
    "collapsed": false
   }
  },
  {
   "cell_type": "code",
   "execution_count": 86,
   "outputs": [
    {
     "name": "stderr",
     "output_type": "stream",
     "text": [
      "[2022-12-07 08:54:11,961] [jmetal.core.algorithm] [DEBUG] Creating initial set of solutions...\n",
      "[2022-12-07 08:54:12,019] [jmetal.core.algorithm] [DEBUG] Evaluating solutions...\n",
      "[2022-12-07 08:54:12,025] [jmetal.core.algorithm] [DEBUG] Initializing progress...\n",
      "[2022-12-07 08:54:12,028] [jmetal.core.algorithm] [DEBUG] Running main loop until termination criteria is met\n",
      "[2022-12-07 08:54:34,621] [jmetal.core.algorithm] [DEBUG] Finished!\n"
     ]
    }
   ],
   "source": [
    "algorithm.run()\n",
    "front = get_non_dominated_solutions(algorithm.get_result())"
   ],
   "metadata": {
    "collapsed": false
   }
  },
  {
   "cell_type": "markdown",
   "source": [
    "### Display the front"
   ],
   "metadata": {
    "collapsed": false
   }
  },
  {
   "cell_type": "code",
   "execution_count": 87,
   "outputs": [],
   "source": [
    "objectives = [solution.objectives for solution in front]\n",
    "\n",
    "x = [_[0] for _ in objectives]\n",
    "y = [_[1] for _ in objectives]"
   ],
   "metadata": {
    "collapsed": false
   }
  },
  {
   "cell_type": "code",
   "execution_count": 91,
   "outputs": [
    {
     "data": {
      "text/plain": "<matplotlib.legend.Legend at 0x7fcfb05ff910>"
     },
     "execution_count": 91,
     "metadata": {},
     "output_type": "execute_result"
    },
    {
     "data": {
      "text/plain": "<Figure size 640x480 with 1 Axes>",
      "image/png": "[encoded data removed]"
     },
     "metadata": {},
     "output_type": "display_data"
    }
   ],
   "source": [
    "plt.objectives(x, y, color=\"black\")\n",
    "\n",
    "plt.xlabel(\"f1\")\n",
    "plt.ylabel(\"f2\")\n",
    "plt.title(problem.get_name())\n",
    "plt.legend([\"NSGAII\"])"
   ],
   "metadata": {
    "collapsed": false
   }
  },
  {
   "cell_type": "code",
   "execution_count": null,
   "outputs": [],
   "source": [],
   "metadata": {
    "collapsed": false
   }
  }
 ],
 "metadata": {
  "kernelspec": {
   "display_name": "Python 3",
   "language": "python",
   "name": "python3"
  },
  "language_info": {
   "codemirror_mode": {
    "name": "ipython",
    "version": 2
   },
   "file_extension": ".py",
   "mimetype": "text/x-python",
   "name": "python",
   "nbconvert_exporter": "python",
   "pygments_lexer": "ipython2",
   "version": "2.7.6"
  }
 },
 "nbformat": 4,
 "nbformat_minor": 0
}
