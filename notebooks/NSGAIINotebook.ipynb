{
 "cells": [
  {
   "cell_type": "markdown",
   "metadata": {},
   "source": [
    "# Examples of configuring and running NSGA-II\n",
    "\n",
    "This notebook includes two examples where NSGA-II is used to solve a continuous and a binary multi-objective problems."
   ]
  },
  {
   "cell_type": "code",
   "metadata": {},
   "source": [
    "from jmetal.algorithm.multiobjective.nsgaii import NSGAII\n",
    "from jmetal.operator import PolynomialMutation, SBXCrossover\n",
    "from jmetal.operator import BitFlipMutation, SPXCrossover\n",
    "from jmetal.util.solution import get_non_dominated_solutions\n",
    "from jmetal.util.termination_criterion import StoppingByEvaluations"
   ],
   "outputs": [],
   "execution_count": null
  },
  {
   "cell_type": "markdown",
   "metadata": {},
   "source": [
    "## Configure NSGA-II to solve a continuous problem (ZDT1)\n",
    "### Indicate the problem to solve"
   ]
  },
  {
   "cell_type": "code",
   "metadata": {
    "ExecuteTime": {
     "end_time": "2024-06-21T10:22:36.351862Z",
     "start_time": "2024-06-21T10:22:36.348342Z"
    }
   },
   "source": [
    "from jmetal.problem import ZDT1\n",
    "\n",
    "problem = ZDT1()"
   ],
   "outputs": [],
   "execution_count": 5
  },
  {
   "cell_type": "markdown",
   "metadata": {},
   "source": [
    "### Create an instance of NSGA-II"
   ]
  },
  {
   "cell_type": "code",
   "metadata": {
    "ExecuteTime": {
     "end_time": "2024-06-21T10:22:39.183018Z",
     "start_time": "2024-06-21T10:22:39.177335Z"
    }
   },
   "source": [
    "max_evaluations = 25000\n",
    "algorithm = NSGAII(\n",
    "        problem=problem,\n",
    "        population_size=100,\n",
    "        offspring_population_size=100,\n",
    "        mutation=PolynomialMutation(probability=1.0 / problem.number_of_variables(), distribution_index=20),\n",
    "        crossover=SBXCrossover(probability=1.0, distribution_index=20),\n",
    "        termination_criterion=StoppingByEvaluations(max_evaluations=max_evaluations),\n",
    ")"
   ],
   "outputs": [],
   "execution_count": 6
  },
  {
   "cell_type": "markdown",
   "metadata": {},
   "source": [
    "### Run the algorithm and get the front found"
   ]
  },
  {
   "cell_type": "code",
   "metadata": {
    "ExecuteTime": {
     "end_time": "2024-06-21T10:22:49.745973Z",
     "start_time": "2024-06-21T10:22:42.260470Z"
    }
   },
   "source": [
    "algorithm.run()\n",
    "front = get_non_dominated_solutions(algorithm.get_result())"
   ],
   "outputs": [
    {
     "name": "stderr",
     "output_type": "stream",
     "text": [
      "[2024-06-21 12:22:42,261] [jmetal.core.algorithm] [DEBUG] Creating initial set of solutions...\n",
      "[2024-06-21 12:22:42,265] [jmetal.core.algorithm] [DEBUG] Evaluating solutions...\n",
      "[2024-06-21 12:22:42,266] [jmetal.core.algorithm] [DEBUG] Initializing progress...\n",
      "[2024-06-21 12:22:42,267] [jmetal.core.algorithm] [DEBUG] Running main loop until termination criteria is met\n",
      "[2024-06-21 12:22:49,545] [jmetal.core.algorithm] [DEBUG] Finished!\n"
     ]
    },
    {
     "ename": "AttributeError",
     "evalue": "'NSGAII' object has no attribute 'get_result'",
     "output_type": "error",
     "traceback": [
      "\u001B[0;31m---------------------------------------------------------------------------\u001B[0m",
      "\u001B[0;31mAttributeError\u001B[0m                            Traceback (most recent call last)",
      "Cell \u001B[0;32mIn[7], line 2\u001B[0m\n\u001B[1;32m      1\u001B[0m algorithm\u001B[38;5;241m.\u001B[39mrun()\n\u001B[0;32m----> 2\u001B[0m front \u001B[38;5;241m=\u001B[39m get_non_dominated_solutions(\u001B[43malgorithm\u001B[49m\u001B[38;5;241;43m.\u001B[39;49m\u001B[43mget_result\u001B[49m())\n",
      "\u001B[0;31mAttributeError\u001B[0m: 'NSGAII' object has no attribute 'get_result'"
     ]
    }
   ],
   "execution_count": 7
  },
  {
   "cell_type": "markdown",
   "metadata": {},
   "source": [
    "### Display the front"
   ]
  },
  {
   "cell_type": "code",
   "metadata": {
    "ExecuteTime": {
     "end_time": "2024-06-21T10:22:49.756076Z",
     "start_time": "2024-06-21T10:22:49.755388Z"
    }
   },
   "source": [
    "import matplotlib.pyplot as plt\n",
    "import numpy as np"
   ],
   "outputs": [],
   "execution_count": null
  },
  {
   "cell_type": "code",
   "metadata": {
    "ExecuteTime": {
     "end_time": "2024-06-21T10:22:49.762278Z",
     "start_time": "2024-06-21T10:22:49.762108Z"
    }
   },
   "source": [
    "objectives = [solution.objectives for solution in front]\n",
    "\n",
    "x = [_[0] for _ in objectives]\n",
    "y = [_[1] for _ in objectives]"
   ],
   "outputs": [],
   "execution_count": null
  },
  {
   "cell_type": "code",
   "metadata": {
    "ExecuteTime": {
     "end_time": "2024-06-21T10:22:49.765093Z",
     "start_time": "2024-06-21T10:22:49.765015Z"
    }
   },
   "source": [
    "referenceFront = np.loadtxt(\"../resources/reference_front/ZDT1.pf\", delimiter=' ')\n",
    "referenceFront = referenceFront[referenceFront[:, 0].argsort()]"
   ],
   "outputs": [],
   "execution_count": null
  },
  {
   "cell_type": "code",
   "metadata": {
    "ExecuteTime": {
     "end_time": "2024-06-21T10:22:49.767425Z",
     "start_time": "2024-06-21T10:22:49.767339Z"
    }
   },
   "source": [
    "plt.plot(referenceFront[:,0], referenceFront[:,1], color=\"black\")\n",
    "plt.scatter(x, y, color=\"black\", marker = '.')\n",
    "\n",
    "plt.xlabel(\"f1\")\n",
    "plt.ylabel(\"f2\")\n",
    "plt.title(problem.name())\n",
    "plt.legend([\"Reference front\" , \"NSGAII\"])"
   ],
   "outputs": [],
   "execution_count": null
  },
  {
   "cell_type": "markdown",
   "metadata": {},
   "source": [
    "## Configure NSGA-II to solve a binary problem (OneZeroMax)"
   ]
  },
  {
   "cell_type": "code",
   "metadata": {
    "ExecuteTime": {
     "start_time": "2024-06-21T10:22:29.043412Z"
    }
   },
   "source": [
    "# The OneZeroMax problem consists of maximizing the number of zeros and the number of ones in a binary string\n",
    "from jmetal.problem.multiobjective.unconstrained import OneZeroMax\n",
    "\n",
    "bit_string_length = 512\n",
    "problem = OneZeroMax(bit_string_length)"
   ],
   "outputs": [],
   "execution_count": null
  },
  {
   "cell_type": "markdown",
   "metadata": {},
   "source": [
    "### Create an instance of NSGAII for binary problems¡"
   ]
  },
  {
   "cell_type": "code",
   "metadata": {
    "ExecuteTime": {
     "start_time": "2024-06-21T10:22:29.045286Z"
    }
   },
   "source": [
    "max_evaluations = 25000\n",
    "algorithm = NSGAII(\n",
    "        problem=problem,\n",
    "        population_size=100,\n",
    "        offspring_population_size=100,\n",
    "        mutation=BitFlipMutation(probability=1.0 / bit_string_length),\n",
    "        crossover=SPXCrossover(probability=1.0),\n",
    "        termination_criterion=StoppingByEvaluations(max_evaluations=max_evaluations),\n",
    ")"
   ],
   "outputs": [],
   "execution_count": null
  },
  {
   "cell_type": "markdown",
   "metadata": {},
   "source": [
    "### Run the algorithm and get the front found"
   ]
  },
  {
   "cell_type": "code",
   "metadata": {
    "ExecuteTime": {
     "start_time": "2024-06-21T10:22:29.046837Z"
    }
   },
   "source": [
    "algorithm.run()\n",
    "front = get_non_dominated_solutions(algorithm.get_result())"
   ],
   "outputs": [],
   "execution_count": null
  },
  {
   "cell_type": "markdown",
   "metadata": {},
   "source": [
    "### Display the front"
   ]
  },
  {
   "cell_type": "code",
   "metadata": {
    "ExecuteTime": {
     "start_time": "2024-06-21T10:22:29.048263Z"
    }
   },
   "source": [
    "objectives = [solution.objectives for solution in front]\n",
    "\n",
    "x = [_[0] for _ in objectives]\n",
    "y = [_[1] for _ in objectives]"
   ],
   "outputs": [],
   "execution_count": null
  },
  {
   "cell_type": "code",
   "metadata": {
    "ExecuteTime": {
     "end_time": "2024-06-21T10:22:29.094980Z",
     "start_time": "2024-06-21T10:22:29.051241Z"
    }
   },
   "source": [
    "plt.scatter(x, y, color=\"black\")\n",
    "\n",
    "plt.xlabel(\"f1\")\n",
    "plt.ylabel(\"f2\")\n",
    "plt.title(problem.name())\n",
    "plt.legend([\"NSGAII\"])"
   ],
   "outputs": [],
   "execution_count": null
  },
  {
   "cell_type": "code",
   "metadata": {
    "ExecuteTime": {
     "start_time": "2024-06-21T10:22:29.053211Z"
    }
   },
   "source": [],
   "outputs": [],
   "execution_count": null
  },
  {
   "cell_type": "code",
   "metadata": {
    "ExecuteTime": {
     "start_time": "2024-06-21T10:22:29.054167Z"
    }
   },
   "source": [],
   "outputs": [],
   "execution_count": null
  },
  {
   "cell_type": "code",
   "metadata": {
    "ExecuteTime": {
     "start_time": "2024-06-21T10:22:29.055103Z"
    }
   },
   "source": [],
   "outputs": [],
   "execution_count": null
  }
 ],
 "metadata": {
  "kernelspec": {
   "display_name": "Python 3 (ipykernel)",
   "language": "python",
   "name": "python3"
  },
  "language_info": {
   "codemirror_mode": {
    "name": "ipython",
    "version": 3
   },
   "file_extension": ".py",
   "mimetype": "text/x-python",
   "name": "python",
   "nbconvert_exporter": "python",
   "pygments_lexer": "ipython3",
   "version": "3.9.18"
  }
 },
 "nbformat": 4,
 "nbformat_minor": 4
}
